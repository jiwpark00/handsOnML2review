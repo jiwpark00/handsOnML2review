{
 "cells": [
  {
   "cell_type": "code",
   "execution_count": 87,
   "id": "5cb1d299",
   "metadata": {},
   "outputs": [
    {
     "data": {
      "text/plain": [
       "VotingClassifier(estimators=[('lr', LogisticRegression()),\n",
       "                             ('rf', RandomForestClassifier()), ('svc', SVC())])"
      ]
     },
     "execution_count": 87,
     "metadata": {},
     "output_type": "execute_result"
    }
   ],
   "source": [
    "#chapter 7\n",
    "\n",
    "from sklearn.datasets import load_iris\n",
    "from sklearn.tree import DecisionTreeClassifier\n",
    "iris = load_iris()\n",
    "\n",
    "import numpy as np\n",
    "X = iris.data[:, 2:]\n",
    "noise_1 = [np.random.random_sample() for i in range(len(X))]\n",
    "noise_2 = [np.random.random_sample() for i in range(len(X))]\n",
    "noise = np.array([noise_1, noise_2]).transpose()\n",
    "X_noise = X + noise\n",
    "\n",
    "y = iris.target\n",
    "\n",
    "from sklearn.model_selection import train_test_split\n",
    "X_train, X_test, y_train, y_test = train_test_split(X_noise, y, test_size=0.3, random_state=42)\n",
    "\n",
    "from sklearn.ensemble import RandomForestClassifier\n",
    "from sklearn.ensemble import VotingClassifier\n",
    "from sklearn.linear_model import LogisticRegression\n",
    "from sklearn.svm import SVC\n",
    "\n",
    "log_clf = LogisticRegression()\n",
    "rnd_clf = RandomForestClassifier()\n",
    "svm_clf = SVC()\n",
    "\n",
    "voting_clf = VotingClassifier(\n",
    "    estimators=[('lr', log_clf), ('rf', rnd_clf), ('svc', svm_clf)],\n",
    "    voting='hard')\n",
    "\n",
    "voting_clf.fit(X_train, y_train)"
   ]
  },
  {
   "cell_type": "code",
   "execution_count": 88,
   "id": "51ba98be",
   "metadata": {},
   "outputs": [
    {
     "name": "stdout",
     "output_type": "stream",
     "text": [
      "LogisticRegression 0.9111111111111111\n",
      "RandomForestClassifier 0.8888888888888888\n",
      "SVC 0.9333333333333333\n",
      "VotingClassifier 0.9111111111111111\n"
     ]
    }
   ],
   "source": [
    "from sklearn.metrics import accuracy_score\n",
    "for clf in (log_clf, rnd_clf, svm_clf, voting_clf):\n",
    "    clf.fit(X_train, y_train)\n",
    "    y_pred = clf.predict(X_test)\n",
    "    print(clf.__class__.__name__, accuracy_score(y_test, y_pred))"
   ]
  },
  {
   "cell_type": "code",
   "execution_count": 90,
   "id": "9d8f92a5",
   "metadata": {},
   "outputs": [],
   "source": [
    "# note that voting classifier did not always improve than existing models"
   ]
  },
  {
   "cell_type": "code",
   "execution_count": 91,
   "id": "fec1889d",
   "metadata": {},
   "outputs": [],
   "source": [
    "from sklearn.ensemble import BaggingClassifier\n",
    "from sklearn.tree import DecisionTreeClassifier\n",
    "\n",
    "bag_clf = BaggingClassifier(\n",
    "DecisionTreeClassifier(), n_estimators=500,\n",
    "    max_samples=100, bootstrap=True, n_jobs=-1)\n",
    "\n",
    "bag_clf.fit(X_train, y_train)\n",
    "y_pred = bag_clf.predict(X_test)"
   ]
  },
  {
   "cell_type": "code",
   "execution_count": 94,
   "id": "9a45be04",
   "metadata": {},
   "outputs": [
    {
     "data": {
      "text/plain": [
       "0.8888888888888888"
      ]
     },
     "execution_count": 94,
     "metadata": {},
     "output_type": "execute_result"
    }
   ],
   "source": [
    "accuracy_score(y_test, y_pred)"
   ]
  },
  {
   "cell_type": "code",
   "execution_count": 95,
   "id": "9d224e2c",
   "metadata": {},
   "outputs": [],
   "source": [
    "bag_clf = BaggingClassifier(\n",
    "DecisionTreeClassifier(), n_estimators=500,\n",
    "bootstrap=True, n_jobs=-1, oob_score=True)"
   ]
  },
  {
   "cell_type": "code",
   "execution_count": 96,
   "id": "2e9c9947",
   "metadata": {},
   "outputs": [
    {
     "data": {
      "text/plain": [
       "0.9333333333333333"
      ]
     },
     "execution_count": 96,
     "metadata": {},
     "output_type": "execute_result"
    }
   ],
   "source": [
    "bag_clf.fit(X_train, y_train)\n",
    "bag_clf.oob_score_"
   ]
  },
  {
   "cell_type": "code",
   "execution_count": 97,
   "id": "e96d257d",
   "metadata": {},
   "outputs": [
    {
     "data": {
      "text/plain": [
       "0.8888888888888888"
      ]
     },
     "execution_count": 97,
     "metadata": {},
     "output_type": "execute_result"
    }
   ],
   "source": [
    "from sklearn.metrics import accuracy_score\n",
    "y_pred = bag_clf.predict(X_test)\n",
    "accuracy_score(y_test, y_pred)"
   ]
  },
  {
   "cell_type": "code",
   "execution_count": 98,
   "id": "989fb567",
   "metadata": {
    "scrolled": true
   },
   "outputs": [
    {
     "data": {
      "text/plain": [
       "array([[0.02173913, 0.97826087, 0.        ],\n",
       "       [0.        , 0.21311475, 0.78688525],\n",
       "       [0.        , 0.00555556, 0.99444444],\n",
       "       [0.        , 0.96315789, 0.03684211],\n",
       "       [0.        , 0.        , 1.        ],\n",
       "       [0.        , 1.        , 0.        ],\n",
       "       [0.        , 0.        , 1.        ],\n",
       "       [0.        , 0.88717949, 0.11282051],\n",
       "       [1.        , 0.        , 0.        ],\n",
       "       [0.        , 0.        , 1.        ],\n",
       "       [0.        , 1.        , 0.        ],\n",
       "       [1.        , 0.        , 0.        ],\n",
       "       [1.        , 0.        , 0.        ],\n",
       "       [1.        , 0.        , 0.        ],\n",
       "       [0.1978022 , 0.8021978 , 0.        ],\n",
       "       [0.        , 0.02197802, 0.97802198],\n",
       "       [1.        , 0.        , 0.        ],\n",
       "       [1.        , 0.        , 0.        ],\n",
       "       [0.8128655 , 0.1871345 , 0.        ],\n",
       "       [0.        , 0.98342541, 0.01657459],\n",
       "       [1.        , 0.        , 0.        ],\n",
       "       [0.        , 0.75287356, 0.24712644],\n",
       "       [0.        , 0.        , 1.        ],\n",
       "       [0.99456522, 0.00543478, 0.        ],\n",
       "       [0.        , 0.97765363, 0.02234637],\n",
       "       [0.        , 0.04444444, 0.95555556],\n",
       "       [1.        , 0.        , 0.        ],\n",
       "       [0.        , 0.98870056, 0.01129944],\n",
       "       [0.        , 1.        , 0.        ],\n",
       "       [0.        , 1.        , 0.        ],\n",
       "       [0.        , 0.26923077, 0.73076923],\n",
       "       [0.        , 0.        , 1.        ],\n",
       "       [0.        , 0.93717277, 0.06282723],\n",
       "       [1.        , 0.        , 0.        ],\n",
       "       [0.        , 1.        , 0.        ],\n",
       "       [0.        , 0.01744186, 0.98255814],\n",
       "       [1.        , 0.        , 0.        ],\n",
       "       [1.        , 0.        , 0.        ],\n",
       "       [0.        , 1.        , 0.        ],\n",
       "       [0.        , 0.84      , 0.16      ],\n",
       "       [1.        , 0.        , 0.        ],\n",
       "       [0.        , 0.        , 1.        ],\n",
       "       [1.        , 0.        , 0.        ],\n",
       "       [1.        , 0.        , 0.        ],\n",
       "       [0.        , 0.72941176, 0.27058824],\n",
       "       [0.14795918, 0.85204082, 0.        ],\n",
       "       [0.        , 0.02272727, 0.97727273],\n",
       "       [0.        , 0.05263158, 0.94736842],\n",
       "       [0.        , 0.0097561 , 0.9902439 ],\n",
       "       [0.        , 0.        , 1.        ],\n",
       "       [0.        , 0.83832335, 0.16167665],\n",
       "       [0.9375    , 0.0625    , 0.        ],\n",
       "       [1.        , 0.        , 0.        ],\n",
       "       [0.        , 0.7962963 , 0.2037037 ],\n",
       "       [0.        , 0.00966184, 0.99033816],\n",
       "       [1.        , 0.        , 0.        ],\n",
       "       [1.        , 0.        , 0.        ],\n",
       "       [1.        , 0.        , 0.        ],\n",
       "       [0.        , 0.2459893 , 0.7540107 ],\n",
       "       [0.        , 0.00555556, 0.99444444],\n",
       "       [1.        , 0.        , 0.        ],\n",
       "       [0.        , 0.        , 1.        ],\n",
       "       [0.        , 0.        , 1.        ],\n",
       "       [1.        , 0.        , 0.        ],\n",
       "       [0.        , 0.87845304, 0.12154696],\n",
       "       [0.        , 0.58638743, 0.41361257],\n",
       "       [0.        , 0.23036649, 0.76963351],\n",
       "       [0.        , 0.81318681, 0.18681319],\n",
       "       [0.        , 0.01621622, 0.98378378],\n",
       "       [1.        , 0.        , 0.        ],\n",
       "       [0.        , 0.07567568, 0.92432432],\n",
       "       [0.        , 1.        , 0.        ],\n",
       "       [0.        , 0.06179775, 0.93820225],\n",
       "       [0.        , 1.        , 0.        ],\n",
       "       [0.        , 0.98351648, 0.01648352],\n",
       "       [0.        , 0.84      , 0.16      ],\n",
       "       [1.        , 0.        , 0.        ],\n",
       "       [0.        , 0.98412698, 0.01587302],\n",
       "       [0.        , 0.97790055, 0.02209945],\n",
       "       [1.        , 0.        , 0.        ],\n",
       "       [0.        , 0.99319728, 0.00680272],\n",
       "       [0.        , 0.        , 1.        ],\n",
       "       [0.        , 0.01092896, 0.98907104],\n",
       "       [1.        , 0.        , 0.        ],\n",
       "       [0.02116402, 0.97883598, 0.        ],\n",
       "       [0.        , 0.        , 1.        ],\n",
       "       [0.        , 0.        , 1.        ],\n",
       "       [1.        , 0.        , 0.        ],\n",
       "       [0.        , 0.        , 1.        ],\n",
       "       [1.        , 0.        , 0.        ],\n",
       "       [0.        , 0.65326633, 0.34673367],\n",
       "       [0.        , 0.02094241, 0.97905759],\n",
       "       [0.        , 0.34104046, 0.65895954],\n",
       "       [0.        , 0.93908629, 0.06091371],\n",
       "       [0.        , 0.04651163, 0.95348837],\n",
       "       [0.        , 0.68449198, 0.31550802],\n",
       "       [0.        , 1.        , 0.        ],\n",
       "       [0.        , 0.05586592, 0.94413408],\n",
       "       [0.        , 0.05729167, 0.94270833],\n",
       "       [1.        , 0.        , 0.        ],\n",
       "       [0.        , 0.88265306, 0.11734694],\n",
       "       [0.        , 0.03571429, 0.96428571],\n",
       "       [1.        , 0.        , 0.        ],\n",
       "       [0.        , 0.43085106, 0.56914894],\n",
       "       [0.        , 0.        , 1.        ]])"
      ]
     },
     "execution_count": 98,
     "metadata": {},
     "output_type": "execute_result"
    }
   ],
   "source": [
    "bag_clf.oob_decision_function_"
   ]
  },
  {
   "cell_type": "code",
   "execution_count": 100,
   "id": "7181e41b",
   "metadata": {},
   "outputs": [],
   "source": [
    "from sklearn.ensemble import RandomForestClassifier\n",
    "\n",
    "rnd_clf = RandomForestClassifier(n_estimators=500, max_leaf_nodes=16,\n",
    "                                n_jobs=-1)\n",
    "rnd_clf.fit(X_train, y_train)\n",
    "y_pred_rf = rnd_clf.predict(X_test)"
   ]
  },
  {
   "cell_type": "code",
   "execution_count": 101,
   "id": "fde6a955",
   "metadata": {},
   "outputs": [
    {
     "data": {
      "text/plain": [
       "0.8888888888888888"
      ]
     },
     "execution_count": 101,
     "metadata": {},
     "output_type": "execute_result"
    }
   ],
   "source": [
    "accuracy_score(y_test, y_pred_rf)"
   ]
  },
  {
   "cell_type": "code",
   "execution_count": 102,
   "id": "19e73f71",
   "metadata": {},
   "outputs": [
    {
     "name": "stdout",
     "output_type": "stream",
     "text": [
      "sepal length (cm) 0.49876479068108565\n",
      "sepal width (cm) 0.5012352093189144\n"
     ]
    }
   ],
   "source": [
    "for name, score in zip(iris[\"feature_names\"], rnd_clf.feature_importances_):\n",
    "    print(name, score)"
   ]
  },
  {
   "cell_type": "code",
   "execution_count": 103,
   "id": "d638b121",
   "metadata": {},
   "outputs": [
    {
     "data": {
      "text/plain": [
       "AdaBoostClassifier(base_estimator=DecisionTreeClassifier(max_depth=1),\n",
       "                   learning_rate=0.5, n_estimators=200)"
      ]
     },
     "execution_count": 103,
     "metadata": {},
     "output_type": "execute_result"
    }
   ],
   "source": [
    "# Adaboost\n",
    "# Focuses on training instances that the predecessor underfitted\n",
    "\n",
    "from sklearn.ensemble import AdaBoostClassifier\n",
    "\n",
    "ada_clf = AdaBoostClassifier(\n",
    "    DecisionTreeClassifier(max_depth=1), n_estimators=200,\n",
    "    algorithm=\"SAMME.R\", learning_rate=0.5\n",
    ")\n",
    "\n",
    "ada_clf.fit(X_train, y_train)"
   ]
  },
  {
   "cell_type": "code",
   "execution_count": 104,
   "id": "b065a206",
   "metadata": {},
   "outputs": [
    {
     "data": {
      "text/plain": [
       "0.9111111111111111"
      ]
     },
     "execution_count": 104,
     "metadata": {},
     "output_type": "execute_result"
    }
   ],
   "source": [
    "accuracy_score(y_test,ada_clf.predict(X_test))"
   ]
  },
  {
   "cell_type": "code",
   "execution_count": 105,
   "id": "70a30929",
   "metadata": {},
   "outputs": [
    {
     "data": {
      "text/plain": [
       "DecisionTreeRegressor(max_depth=2)"
      ]
     },
     "execution_count": 105,
     "metadata": {},
     "output_type": "execute_result"
    }
   ],
   "source": [
    "from sklearn.tree import DecisionTreeRegressor\n",
    "tree_reg1 = DecisionTreeRegressor(max_depth=2)\n",
    "tree_reg1.fit(X, y)\n",
    "\n",
    "y2 = y - tree_reg1.predict(X)\n",
    "tree_reg2 = DecisionTreeRegressor(max_depth=2)\n",
    "tree_reg2.fit(X, y2)"
   ]
  },
  {
   "cell_type": "code",
   "execution_count": 106,
   "id": "2f7f87ef",
   "metadata": {},
   "outputs": [
    {
     "data": {
      "text/plain": [
       "DecisionTreeRegressor(max_depth=2)"
      ]
     },
     "execution_count": 106,
     "metadata": {},
     "output_type": "execute_result"
    }
   ],
   "source": [
    "y3 = y2 - tree_reg2.predict(X)\n",
    "tree_reg3 = DecisionTreeRegressor(max_depth=2)\n",
    "tree_reg3.fit(X, y3)"
   ]
  },
  {
   "cell_type": "code",
   "execution_count": 108,
   "id": "38b675ea",
   "metadata": {},
   "outputs": [],
   "source": [
    "# create a fake_sample\n",
    "noise_1 = [np.random.random_sample() for i in range(len(X_test))]\n",
    "noise_2 = [np.random.random_sample() for i in range(len(X_test))]\n",
    "noise = np.array([noise_1, noise_2]).transpose()\n",
    "X_test_noise = X_test + noise\n",
    "\n",
    "y_pred = sum(tree.predict(X_test_noise) for tree in (tree_reg1, tree_reg2, tree_reg3))"
   ]
  },
  {
   "cell_type": "code",
   "execution_count": 120,
   "id": "e18b7ae4",
   "metadata": {},
   "outputs": [],
   "source": [
    "# now using sklearn version\n",
    "\n",
    "from sklearn.ensemble import GradientBoostingRegressor\n",
    "gbrt = GradientBoostingRegressor(max_depth=2, n_estimators=10,\n",
    "                                learning_rate=1.0)\n",
    "gbrt.fit(X_train, y_train)\n",
    "y_pred = gbrt.predict(X_test)"
   ]
  },
  {
   "cell_type": "code",
   "execution_count": 121,
   "id": "dd0c3948",
   "metadata": {},
   "outputs": [],
   "source": [
    "from sklearn.metrics import mean_squared_error\n",
    "errors = [mean_squared_error(y_test,y_pred) for y_pred in\n",
    "         gbrt.staged_predict(X_test)]"
   ]
  },
  {
   "cell_type": "code",
   "execution_count": 122,
   "id": "0dd4c178",
   "metadata": {},
   "outputs": [
    {
     "data": {
      "text/plain": [
       "GradientBoostingRegressor(max_depth=2, n_estimators=1)"
      ]
     },
     "execution_count": 122,
     "metadata": {},
     "output_type": "execute_result"
    }
   ],
   "source": [
    "bst_n_estimators = np.argmin(errors)\n",
    "\n",
    "gbrt_best = GradientBoostingRegressor(max_depth=2, n_estimators=bst_n_estimators)\n",
    "gbrt_best.fit(X_train, y_train)"
   ]
  },
  {
   "cell_type": "code",
   "execution_count": 123,
   "id": "d30a87e8",
   "metadata": {},
   "outputs": [
    {
     "data": {
      "text/plain": [
       "[0.10833663627956136,\n",
       " 0.07253928098327377,\n",
       " 0.08482723618998984,\n",
       " 0.08431123733363896,\n",
       " 0.08577538450397013,\n",
       " 0.08709069058180413,\n",
       " 0.08710712472427759,\n",
       " 0.08705372700198392,\n",
       " 0.08853218026166948,\n",
       " 0.08721585218431135]"
      ]
     },
     "execution_count": 123,
     "metadata": {},
     "output_type": "execute_result"
    }
   ],
   "source": [
    "errors"
   ]
  },
  {
   "cell_type": "code",
   "execution_count": 130,
   "id": "3ddc1570",
   "metadata": {},
   "outputs": [],
   "source": [
    "gbrt = GradientBoostingRegressor(max_depth=2, warm_start=True)\n",
    "\n",
    "min_val_error = float(\"inf\")\n",
    "error_going_up = 0\n",
    "for n_estimators in range(1,120):\n",
    "    gbrt.n_estimators = n_estimators\n",
    "    gbrt.fit(X_train, y_train)\n",
    "    y_pred = gbrt.predict(X_test)\n",
    "    val_error = mean_squared_error(y_test, y_pred)\n",
    "    if val_error < min_val_error:\n",
    "        min_val_error = val_error\n",
    "        error_going_up = 0\n",
    "    else:\n",
    "        error_going_up += 1\n",
    "        if error_going_up == 5:\n",
    "            break\n"
   ]
  },
  {
   "cell_type": "code",
   "execution_count": 131,
   "id": "4b0207e5",
   "metadata": {},
   "outputs": [
    {
     "data": {
      "text/plain": [
       "0.06273226211752059"
      ]
     },
     "execution_count": 131,
     "metadata": {},
     "output_type": "execute_result"
    }
   ],
   "source": [
    "min_val_error"
   ]
  },
  {
   "cell_type": "code",
   "execution_count": 135,
   "id": "e2556c9d",
   "metadata": {},
   "outputs": [],
   "source": [
    "#!pip install xgboost - if not xgboost installed"
   ]
  },
  {
   "cell_type": "code",
   "execution_count": 140,
   "id": "e1119e4b",
   "metadata": {},
   "outputs": [
    {
     "data": {
      "text/plain": [
       "0.07337405872278505"
      ]
     },
     "execution_count": 140,
     "metadata": {},
     "output_type": "execute_result"
    }
   ],
   "source": [
    "import xgboost\n",
    "\n",
    "xgb_reg = xgboost.XGBRegressor()\n",
    "xgb_reg.fit(X_train, y_train)\n",
    "y_pred = xgb_reg.predict(X_test)\n",
    "\n",
    "mean_squared_error(y_test,y_pred)"
   ]
  },
  {
   "cell_type": "code",
   "execution_count": 142,
   "id": "761c1153",
   "metadata": {
    "scrolled": true
   },
   "outputs": [
    {
     "name": "stdout",
     "output_type": "stream",
     "text": [
      "[0]\tvalidation_0-rmse:0.70735\n",
      "[1]\tvalidation_0-rmse:0.51843\n",
      "[2]\tvalidation_0-rmse:0.38264\n",
      "[3]\tvalidation_0-rmse:0.28560\n",
      "[4]\tvalidation_0-rmse:0.21846\n",
      "[5]\tvalidation_0-rmse:0.17294\n",
      "[6]\tvalidation_0-rmse:0.13817\n",
      "[7]\tvalidation_0-rmse:0.11533\n",
      "[8]\tvalidation_0-rmse:0.09799\n",
      "[9]\tvalidation_0-rmse:0.08278\n",
      "[10]\tvalidation_0-rmse:0.07004\n",
      "[11]\tvalidation_0-rmse:0.06233\n",
      "[12]\tvalidation_0-rmse:0.05573\n",
      "[13]\tvalidation_0-rmse:0.05094\n",
      "[14]\tvalidation_0-rmse:0.04684\n",
      "[15]\tvalidation_0-rmse:0.04031\n",
      "[16]\tvalidation_0-rmse:0.03498\n",
      "[17]\tvalidation_0-rmse:0.03062\n",
      "[18]\tvalidation_0-rmse:0.02736\n",
      "[19]\tvalidation_0-rmse:0.02340\n",
      "[20]\tvalidation_0-rmse:0.01982\n",
      "[21]\tvalidation_0-rmse:0.01684\n",
      "[22]\tvalidation_0-rmse:0.01436\n",
      "[23]\tvalidation_0-rmse:0.01223\n",
      "[24]\tvalidation_0-rmse:0.01053\n",
      "[25]\tvalidation_0-rmse:0.00899\n",
      "[26]\tvalidation_0-rmse:0.00787\n",
      "[27]\tvalidation_0-rmse:0.00695\n",
      "[28]\tvalidation_0-rmse:0.00609\n",
      "[29]\tvalidation_0-rmse:0.00549\n",
      "[30]\tvalidation_0-rmse:0.00488\n",
      "[31]\tvalidation_0-rmse:0.00427\n",
      "[32]\tvalidation_0-rmse:0.00371\n",
      "[33]\tvalidation_0-rmse:0.00323\n",
      "[34]\tvalidation_0-rmse:0.00293\n",
      "[35]\tvalidation_0-rmse:0.00257\n",
      "[36]\tvalidation_0-rmse:0.00234\n",
      "[37]\tvalidation_0-rmse:0.00213\n",
      "[38]\tvalidation_0-rmse:0.00185\n",
      "[39]\tvalidation_0-rmse:0.00170\n",
      "[40]\tvalidation_0-rmse:0.00147\n",
      "[41]\tvalidation_0-rmse:0.00128\n",
      "[42]\tvalidation_0-rmse:0.00114\n",
      "[43]\tvalidation_0-rmse:0.00114\n",
      "[44]\tvalidation_0-rmse:0.00114\n"
     ]
    }
   ],
   "source": [
    "xgb_reg = xgboost.XGBRegressor()\n",
    "xgb_reg.fit(X_train, y_train,\n",
    "            eval_set=[(X_train, y_train)], early_stopping_rounds=2)\n",
    "y_pred = xgb_reg.predict(X_test)"
   ]
  },
  {
   "cell_type": "code",
   "execution_count": null,
   "id": "2dbd544c",
   "metadata": {},
   "outputs": [],
   "source": []
  }
 ],
 "metadata": {
  "kernelspec": {
   "display_name": "Python 3",
   "language": "python",
   "name": "python3"
  },
  "language_info": {
   "codemirror_mode": {
    "name": "ipython",
    "version": 3
   },
   "file_extension": ".py",
   "mimetype": "text/x-python",
   "name": "python",
   "nbconvert_exporter": "python",
   "pygments_lexer": "ipython3",
   "version": "3.8.8"
  }
 },
 "nbformat": 4,
 "nbformat_minor": 5
}
